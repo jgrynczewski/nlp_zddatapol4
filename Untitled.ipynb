{
 "cells": [
  {
   "cell_type": "markdown",
   "id": "786b151c",
   "metadata": {},
   "source": [
    "## Wyrażenia regularne"
   ]
  },
  {
   "cell_type": "code",
   "execution_count": 7,
   "id": "9af347a5",
   "metadata": {},
   "outputs": [
    {
     "name": "stdout",
     "output_type": "stream",
     "text": [
      "<re.Match object; span=(0, 3), match='Ala'>\n"
     ]
    }
   ],
   "source": [
    "import re\n",
    "\n",
    "text = \"Ala ma kota\"\n",
    "regex = '\\w+'  # jeden lub więcej znaków a-z A-Z 1-9 _\n",
    "\n",
    "match = re.match(regex, text)\n",
    "print(match)"
   ]
  },
  {
   "cell_type": "code",
   "execution_count": 31,
   "id": "4ae2aee0",
   "metadata": {},
   "outputs": [
    {
     "name": "stdout",
     "output_type": "stream",
     "text": [
      "<re.Match object; span=(0, 2), match='Al'>\n",
      "<re.Match object; span=(0, 1), match='A'>\n",
      "<re.Match object; span=(0, 1), match='1'>\n",
      "None\n",
      "<re.Match object; span=(0, 1), match='1'>\n",
      "None\n",
      "<re.Match object; span=(9, 12), match='b23'>\n",
      "['b23', 'a0', 'c345']\n",
      "['fdsa afs ', ' 2342 qw ', ' ', ' f54']\n",
      "['fdsa', 'afs', 'b23', '2342', 'qw', 'a0', 'c345', 'f54']\n",
      "['Ala', 'ma', 'kota!']\n",
      "['Ala', 'ma', '', '', '', '', '', '', '', 'kota!']\n",
      "['Ala', 'ma', 'kota!']\n"
     ]
    }
   ],
   "source": [
    "# metoda match - dopasuj NA POCZĄTKU tekstu wzorzec (zwraca obiekt klasy re.Match)\n",
    "\n",
    "# proste dopasowanie sekwencji znaków\n",
    "regex = 'Al'\n",
    "text = \"Ala ma kota\"\n",
    "print(re.match(regex, text))\n",
    "\n",
    "\n",
    "regex = r'\\w'  # a-z A-Z 1-9 _\n",
    "print(re.match(regex, text))\n",
    "\n",
    "digit_regex = r'\\d'  # 1-9\n",
    "text = '123ala'\n",
    "\n",
    "print(re.match(digit_regex, text))\n",
    "\n",
    "space_regex = r'\\s'  # spacja\n",
    "print(re.match(space_regex, text))\n",
    "\n",
    "regex = r'.'  # dowolny znak poza znakiem nowej linii - wildcard\n",
    "print(re.match(regex, text))\n",
    "\n",
    "# negacja\n",
    "not_space_regex = r'\\S'  # wszystko poza spacją\n",
    "\n",
    "regex = r'Al\\d'  # Al i dowolna cyfra\n",
    "\n",
    "# zakresy\n",
    "regex = r'[b-g]'  # dowolny znak z zakresu b-g (kodowanie ascii)\n",
    "regex = r'[a-z3-7C-G]'  # dowolny znak z zakresu a-z, 3-7, C-G\n",
    "\n",
    "# Dopasowanie zachłanne\n",
    "# + - 1 lub więcej takich znaków\n",
    "# * - 0 lub więcej takich znaków\n",
    "\n",
    "regex = '\\w+'  # jedno lub więce znaków a-z A-Z 1-9 _\n",
    "regex = 'ab\\d*'\n",
    "\n",
    "# metoda search - przechodzi po całym tekście i próbuje dopasować regex i zatrzymuje się po pierwszym dopasowaniu (zwraca obiekt klasy re.Match)\n",
    "\n",
    "regex = '[a-c]\\d+'\n",
    "text = \"fdsa afs b23 2342 qw a0 c345 f54\"\n",
    "\n",
    "print(re.match(regex, text))\n",
    "print(re.search(regex, text))\n",
    "\n",
    "# metoda findall - znajdź wszystkie dopasowania wzorca w tekście (zwraca listę dopasowań)\n",
    "print(re.findall(regex, text))\n",
    "\n",
    "# metoda split - rozbija tekst traktując dopasowanie do regex jako separator\n",
    "print(re.split(regex, text))\n",
    "\n",
    "print(re.split('\\s', text))  # rozdzielamy napis po spacji.\n",
    "\n",
    "print(re.split('\\s', \"Ala ma kota!\"))\n",
    "print(re.split('\\s', \"Ala ma        kota!\"))\n",
    "print(re.split('\\s+', \"Ala ma        kota!\"))\n",
    "\n",
    "# Podstawowy interfejs biblioteki re:\n",
    "# match\n",
    "# search\n",
    "# findall\n",
    "# split"
   ]
  },
  {
   "cell_type": "code",
   "execution_count": null,
   "id": "577815b7",
   "metadata": {},
   "outputs": [],
   "source": []
  }
 ],
 "metadata": {
  "kernelspec": {
   "display_name": "Python 3 (ipykernel)",
   "language": "python",
   "name": "python3"
  },
  "language_info": {
   "codemirror_mode": {
    "name": "ipython",
    "version": 3
   },
   "file_extension": ".py",
   "mimetype": "text/x-python",
   "name": "python",
   "nbconvert_exporter": "python",
   "pygments_lexer": "ipython3",
   "version": "3.8.6"
  }
 },
 "nbformat": 4,
 "nbformat_minor": 5
}
