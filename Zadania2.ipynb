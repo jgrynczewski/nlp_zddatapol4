{
 "cells": [
  {
   "cell_type": "markdown",
   "id": "d412bdb0",
   "metadata": {},
   "source": [
    "Zadanie 5"
   ]
  },
  {
   "cell_type": "code",
   "execution_count": 12,
   "id": "339819c9",
   "metadata": {},
   "outputs": [
    {
     "name": "stdout",
     "output_type": "stream",
     "text": [
      "Może zjedlibyśmy pizzę? Świetny pomysł! 😀\n",
      "['Może', 'zjedlibyśmy', 'pizzę', '?', 'Świetny', 'pomysł', '!', '😀']\n",
      "['Może', 'Świetny']\n",
      "['😀']\n"
     ]
    }
   ],
   "source": [
    "from nltk.tokenize import regexp_tokenize\n",
    "from nltk.tokenize import word_tokenize\n",
    "\n",
    "polish_text = \"Może zjedlibyśmy pizzę? Świetny pomysł! 😀\"\n",
    "print(polish_text)\n",
    "\n",
    "# Ztokenizuj wszystkie słowa w polish_text\n",
    "all_words = word_tokenize(polish_text)\n",
    "print(all_words)\n",
    "\n",
    "# Ztokenizuj tylko słowa zaczynające się z wielkiej litery\n",
    "capital_words= r\"[A-ZŚĆŹŻÓ]\\w+\"\n",
    "print(regexp_tokenize(polish_text, capital_words))\n",
    "\n",
    "#Ztokenizuj tylko  emoji\n",
    "emoji = \"['\\U0001F300-\\U0001F5FF'|'\\U0001F600-\\U0001F64F'|'\\U0001F680-\\U0001F6FF'|'\\u2600-\\u26FF\\u2700-\\u27BF']\"\n",
    "print(regexp_tokenize(polish_text, emoji))"
   ]
  },
  {
   "cell_type": "markdown",
   "id": "ef31cfa0",
   "metadata": {},
   "source": [
    "Zadanie 6"
   ]
  },
  {
   "cell_type": "code",
   "execution_count": 6,
   "id": "0a7dda52",
   "metadata": {},
   "outputs": [
    {
     "data": {
      "image/png": "[encoded data removed]",
      "text/plain": [
       "<Figure size 432x288 with 1 Axes>"
      ]
     },
     "metadata": {
      "needs_background": "light"
     },
     "output_type": "display_data"
    }
   ],
   "source": [
    "import re\n",
    "\n",
    "from matplotlib import pyplot as plt\n",
    "from nltk.tokenize import regexp_tokenize\n",
    "\n",
    "with open('holy_grail.txt', 'r') as f:\n",
    "    lines = f.readlines()\n",
    "\n",
    "# Usuwamy z każdej linii osoby\n",
    "pattern = \"[A-Z]{2,}(\\s)?(#\\d)?([A-Z]{2,})?:\"\n",
    "lines = [re.sub(pattern, '', l) for l in lines]\n",
    "\n",
    "# Tokenizujemy każdą linię\n",
    "tokenized_lines = [regexp_tokenize(line, '\\w+') for line in lines]\n",
    "\n",
    "# Wygeneruj listę częstości długości linii: line_num_tokenize\n",
    "line_num_words = [len(t_line) for t_line in tokenized_lines]\n",
    "\n",
    "# Wygeneruj histogram na podstawie stworzonej listy\n",
    "plt.hist(line_num_words, bins=[item-0.5 for item in range(100)])\n",
    "plt.xticks(range(0, 100, 5))\n",
    "\n",
    "# Wyświetl histogram\n",
    "plt.show()"
   ]
  }
 ],
 "metadata": {
  "kernelspec": {
   "display_name": "Python 3 (ipykernel)",
   "language": "python",
   "name": "python3"
  },
  "language_info": {
   "codemirror_mode": {
    "name": "ipython",
    "version": 3
   },
   "file_extension": ".py",
   "mimetype": "text/x-python",
   "name": "python",
   "nbconvert_exporter": "python",
   "pygments_lexer": "ipython3",
   "version": "3.8.6"
  }
 },
 "nbformat": 4,
 "nbformat_minor": 5
}
