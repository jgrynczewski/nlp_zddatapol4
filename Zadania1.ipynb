{
 "cells": [
  {
   "cell_type": "markdown",
   "id": "3c2da4ae",
   "metadata": {},
   "source": [
    "Zadanie 1 (re.split(), re.findall())"
   ]
  },
  {
   "cell_type": "code",
   "execution_count": 13,
   "id": "d725b826",
   "metadata": {},
   "outputs": [
    {
     "name": "stdout",
     "output_type": "stream",
     "text": [
      "[\"Let's write RegEx\", \"  Won't that be fun\", '  I sure think so', '  Can you find 4 sentences', '  Or perhaps, all 19 words', '']\n",
      "['Let', 'RegEx', 'Won', 'Can', 'Or']\n",
      "[\"Let's\", 'write', 'RegEx!', \"Won't\", 'that', 'be', 'fun?', 'I', 'sure', 'think', 'so.', 'Can', 'you', 'find', '4', 'sentences?', 'Or', 'perhaps,', 'all', '19', 'words?']\n",
      "['4', '19']\n"
     ]
    }
   ],
   "source": [
    "import re\n",
    "\n",
    "my_string = \"Let's write RegEx!  Won't that be fun?  I sure think so.  Can you find 4 sentences?  Or perhaps, all 19 words?\"\n",
    "\n",
    "# Napisz wzorzec dopasowujący znaki kończące zdanie, tj. \".\", \"!\", \"?\": sentence_endings\n",
    "sentence_endings = r\"[\\.?!]\"\n",
    "\n",
    "# Rozbij my_string na znakach końca zdania i wyświetl wynik\n",
    "print(re.split(sentence_endings, my_string))\n",
    "\n",
    "# Znajdź wszystkie słowa rozpoczynające się wielką literą w my_string i wyświetl wynik.\n",
    "capitalized_words = r\"[A-Z]\\w+\"\n",
    "print(re.findall(capitalized_words, my_string))\n",
    "\n",
    "# Rozbij napis my_string wzdłuż spacji i wyświetl wynik.\n",
    "spaces = r\"\\s+\"\n",
    "print(re.split(spaces, my_string))\n",
    "\n",
    "# Znajdź wszystkie liczby w napisie my_string i wyświetl wynik\n",
    "digits = r\"\\d+\"\n",
    "print(re.findall(digits, my_string))"
   ]
  },
  {
   "cell_type": "markdown",
   "id": "4c22ae32",
   "metadata": {},
   "source": [
    "Zadanie 2"
   ]
  },
  {
   "cell_type": "code",
   "execution_count": null,
   "id": "fa5a05aa",
   "metadata": {},
   "outputs": [],
   "source": [
    "scene_one = \"\"\"SCENE 1: [wind] [clop clop clop] \\nKING ARTHUR: Whoa there!  [clop clop clop] \\nSOLDIER #1: Halt!  Who goes there?\\nARTHUR: It is I, Arthur, son of Uther Pendragon, from the castle of Camelot.  King of the Britons, defeator of the Saxons, sovereign of all England!\\nSOLDIER #1: Pull the other one!\\nARTHUR: I am, ...  and this is my trusty servant Patsy.  We have ridden the length and breadth of the land in search of knights who will join me in my court at Camelot.  I must speak with your lord and master.\\nSOLDIER #1: What?  Ridden on a horse?\\nARTHUR: Yes!\\nSOLDIER #1: You're using coconuts!\\nARTHUR: What?\\nSOLDIER #1: You've got two empty halves of coconut and you're bangin' 'em together.\\nARTHUR: So?  We have ridden since the snows of winter covered this land, through the kingdom of Mercea, through--\\nSOLDIER #1: Where'd you get the coconuts?\\nARTHUR: We found them.\\nSOLDIER #1: Found them?  In Mercea?  The coconut's tropical!\\nARTHUR: What do you mean?\\nSOLDIER #1: Well, this is a temperate zone.\\nARTHUR: The swallow may fly south with the sun or the house martin or the plover may seek warmer climes in winter, yet these are not strangers to our land?\\nSOLDIER #1: Are you suggesting coconuts migrate?\\nARTHUR: Not at all.  They could be carried.\\nSOLDIER #1: What?  A swallow carrying a coconut?\\nARTHUR: It could grip it by the husk!\\nSOLDIER #1: It's not a question of where he grips it!  It's a simple question of weight ratios!  A five ounce bird could not carry a one pound coconut.\\nARTHUR: Well, it doesn't matter.  Will you go and tell your master that Arthur from the Court of Camelot is here.\\nSOLDIER #1: Listen.  In order to maintain air-speed velocity, a swallow needs to beat its wings forty-three times every second, right?\\nARTHUR: Please!\\nSOLDIER #1: Am I right?\\nARTHUR: I'm not interested!\\nSOLDIER #2: It could be carried by an African swallow!\\nSOLDIER #1: Oh, yeah, an African swallow maybe, but not a European swallow.  That's my point.\\nSOLDIER #2: Oh, yeah, I agree with that.\\nARTHUR: Will you ask your master if he wants to join my court at Camelot?!\\nSOLDIER #1: But then of course a-- African swallows are non-migratory.\\nSOLDIER #2: Oh, yeah...\\nSOLDIER #1: So they couldn't bring a coconut back anyway...  [clop clop clop] \\nSOLDIER #2: Wait a minute!  Supposing two swallows carried it together?\\nSOLDIER #1: No, they'd have to have it on a line.\\nSOLDIER #2: Well, simple!  They'd just use a strand of creeper!\\nSOLDIER #1: What, held under the dorsal guiding feathers?\\nSOLDIER #2: Well, why not?\\n\"\"\"\n",
    "\n",
    "# Zaimportuje potrzebne funkcje\n",
    "____\n",
    "____\n",
    "\n",
    "# Rozbij pierwszą scenę na zdania: sentences\n",
    "sentences = ____(____)\n",
    "\n",
    "# Użyj word_tokenize, żeby rozbić na słowa czwarte zdanie sceny: tokenized_sent\n",
    "tokenized_sent = ____(____[_])\n",
    "\n",
    "# Utwórz zbiór unikalnych tokenów (słów) z całej pierwszej sceny: unique_tokens\n",
    "unique_tokens = ____(____(____))\n",
    "\n",
    "# Wyświetl wynik - unikalne tokeny pierwszej sceny filmu\n",
    "print(unique_tokens)\n",
    " "
   ]
  },
  {
   "cell_type": "markdown",
   "id": "72b71086",
   "metadata": {},
   "source": [
    "Zadanie 3"
   ]
  },
  {
   "cell_type": "code",
   "execution_count": 1,
   "id": "6c19ddd1",
   "metadata": {
    "collapsed": true
   },
   "outputs": [
    {
     "name": "stdout",
     "output_type": "stream",
     "text": [
      " \n"
     ]
    },
    {
     "ename": "NameError",
     "evalue": "name 're' is not defined",
     "output_type": "error",
     "traceback": [
      "\u001b[1;31m---------------------------------------------------------------------------\u001b[0m",
      "\u001b[1;31mNameError\u001b[0m                                 Traceback (most recent call last)",
      "\u001b[1;32m~\\AppData\\Local\\Temp/ipykernel_5212/4092233987.py\u001b[0m in \u001b[0;36m<module>\u001b[1;34m\u001b[0m\n\u001b[0;32m      9\u001b[0m \u001b[1;33m\u001b[0m\u001b[0m\n\u001b[0;32m     10\u001b[0m \u001b[1;31m# Użyj funkcji re.search, żeby znaleźć pierwsz wystąpienie tekstu w nawisach kwadratowych\u001b[0m\u001b[1;33m\u001b[0m\u001b[1;33m\u001b[0m\u001b[1;33m\u001b[0m\u001b[0m\n\u001b[1;32m---> 11\u001b[1;33m \u001b[0mprint\u001b[0m\u001b[1;33m(\u001b[0m\u001b[0mre\u001b[0m\u001b[1;33m.\u001b[0m\u001b[0m____\u001b[0m\u001b[1;33m(\u001b[0m\u001b[0m____\u001b[0m\u001b[1;33m,\u001b[0m \u001b[0m____\u001b[0m\u001b[1;33m)\u001b[0m\u001b[1;33m)\u001b[0m\u001b[1;33m\u001b[0m\u001b[1;33m\u001b[0m\u001b[0m\n\u001b[0m\u001b[0;32m     12\u001b[0m \u001b[1;33m\u001b[0m\u001b[0m\n\u001b[0;32m     13\u001b[0m \u001b[1;31m# Znajdź notację skryptową na początku czwartego zdania.\u001b[0m\u001b[1;33m\u001b[0m\u001b[1;33m\u001b[0m\u001b[1;33m\u001b[0m\u001b[0m\n",
      "\u001b[1;31mNameError\u001b[0m: name 're' is not defined"
     ]
    }
   ],
   "source": [
    "# Znajdź pierwsze wystąpienie słowa \"coconuts\" w scene_one: match\n",
    "pattern1 = r\"\\[___]\"\n",
    "\n",
    "# Wyświetl początkowy i końcowy indeks dopasowania\n",
    "print(___, ___)\n",
    "\n",
    "# Napisz wyrażenie regularne na dowolny tekst znajdujący się pomiędzy nawiasami kwadratowymi\n",
    "pattern1 = r\"\\[.+\\]\"\n",
    "\n",
    "# Użyj funkcji re.search, żeby znaleźć pierwsz wystąpienie tekstu w nawisach kwadratowych\n",
    "print(re.____(____, ____))\n",
    "\n",
    "# Znajdź notację skryptową na początku czwartego zdania.\n",
    "pattern2 = r\"[____]+:\"\n",
    "print(re.____(____, ____[3]))"
   ]
  },
  {
   "cell_type": "markdown",
   "id": "950998e7",
   "metadata": {},
   "source": [
    "Zadanie 4"
   ]
  },
  {
   "cell_type": "code",
   "execution_count": null,
   "id": "682e4346",
   "metadata": {},
   "outputs": [],
   "source": [
    "# Zaimportuj potrzebne moduły\n",
    "____\n",
    "____\n",
    "\n",
    "tweets = [\n",
    "    'This is the best #nlp exercise ive found! #python',\n",
    "    '#NLP is super fun! <3 #learning',\n",
    "    'Thanks @NLPPython #python'\n",
    "]\n",
    "\n",
    "# Zdefiniuj regex dla hastagów: pattern1\n",
    "pattern1 = r\"#\\w+\"\n",
    "# Użyj funkcji regexp_tokenize z wzorcem hashtaga na pierwszym tweecie z listy tweetów: hashtags\n",
    "hashtags = ____(____[_], ____)\n",
    "print(hashtags)\n",
    "\n",
    "# Zdefiniuj wzorzec, który dopasuje hashtagi i wzmianki\n",
    "mentions_hashtags = ____(____[__], ____)\n",
    "# Użyj funkcji regexp_token z wzorcem hastaga lub wzmianki na ostatnim tweecie z listy tweetów: mentions_hashtags\n",
    "mentions_hashtags = ___(___[___], ___)\n",
    "print(mentions_hashtags)\n",
    "\n",
    "# Użyj klasy TweetTokenizer żeby ztokenizować wszystkie tweety to jednej listy\n",
    "tknzr = ____\n",
    "all_tokens = [____(_) for t in tweets]\n",
    "print(all_tokens)"
   ]
  }
 ],
 "metadata": {
  "kernelspec": {
   "display_name": "Python 3 (ipykernel)",
   "language": "python",
   "name": "python3"
  },
  "language_info": {
   "codemirror_mode": {
    "name": "ipython",
    "version": 3
   },
   "file_extension": ".py",
   "mimetype": "text/x-python",
   "name": "python",
   "nbconvert_exporter": "python",
   "pygments_lexer": "ipython3",
   "version": "3.8.6"
  }
 },
 "nbformat": 4,
 "nbformat_minor": 5
}
